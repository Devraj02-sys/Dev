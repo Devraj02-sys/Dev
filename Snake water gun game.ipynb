{
  "nbformat": 4,
  "nbformat_minor": 0,
  "metadata": {
    "colab": {
      "provenance": [],
      "authorship_tag": "ABX9TyNctoJEMEipSp97UiwIS9aF",
      "include_colab_link": true
    },
    "kernelspec": {
      "name": "python3",
      "display_name": "Python 3"
    },
    "language_info": {
      "name": "python"
    }
  },
  "cells": [
    {
      "cell_type": "markdown",
      "metadata": {
        "id": "view-in-github",
        "colab_type": "text"
      },
      "source": [
        "<a href=\"https://colab.research.google.com/github/Devraj02-sys/Dev/blob/main/Untitled29.ipynb\" target=\"_parent\"><img src=\"https://colab.research.google.com/assets/colab-badge.svg\" alt=\"Open In Colab\"/></a>"
      ]
    },
    {
      "cell_type": "code",
      "execution_count": 5,
      "metadata": {
        "colab": {
          "base_uri": "https://localhost:8080/"
        },
        "id": "2ua-aiVcS2nq",
        "outputId": "3f110fa4-8e9a-46cb-e716-133f6ebf7d57"
      },
      "outputs": [
        {
          "output_type": "stream",
          "name": "stdout",
          "text": [
            "Choose r for rock,Choose p for paper,Choose s for scissor\n",
            "enter your choice  s\n",
            "computer choose r\n",
            "Computer wins \n"
          ]
        }
      ],
      "source": [
        "#making rock paper scissor game\n",
        "import random\n",
        "class Game:\n",
        "    def __init__(self,player1,Computer):\n",
        "        self.player1=player1\n",
        "        self.Computer=Computer\n",
        "    def play(self):\n",
        "        if self.player1==\"r\" and self.Computer==\"s\":\n",
        "            print(\"player1 wins\")\n",
        "        if self.player1==\"s\" and self.Computer==\"r\":\n",
        "            print(\"Computer wins \")\n",
        "        if self.player1==\"s\" and self.Computer==\"p\":\n",
        "            print(\"player1 wins\")\n",
        "        if self.player1==\"p\" and self.Computer==\"s\":\n",
        "            print(\"Computer wins\")\n",
        "        if self.player1==\"p\" and self.Computer==\"r\":\n",
        "            print(\"player1 wins\")\n",
        "        if self.player1==\"r\" and self.Computer==\"p\":\n",
        "            print(\"Computer wins\")\n",
        "        if self.player1==self.Computer:\n",
        "            print(\"draw\")\n",
        "\n",
        "\n",
        "print(\"Choose r for rock,Choose p for paper,Choose s for scissor\")\n",
        "player1=input(\"enter your choice  \").lower()\n",
        "computer=random.choice([\"r\",\"p\",\"s\"])\n",
        "print(f\"computer choose {computer}\")\n",
        "object_game=Game(player1,computer)\n",
        "object_game.play()\n"
      ]
    }
  ]
}
