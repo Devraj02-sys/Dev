{
  "nbformat": 4,
  "nbformat_minor": 0,
  "metadata": {
    "colab": {
      "provenance": [],
      "authorship_tag": "ABX9TyOQy7FAMIBQAcl43UWhCPby",
      "include_colab_link": true
    },
    "kernelspec": {
      "name": "python3",
      "display_name": "Python 3"
    },
    "language_info": {
      "name": "python"
    }
  },
  "cells": [
    {
      "cell_type": "markdown",
      "metadata": {
        "id": "view-in-github",
        "colab_type": "text"
      },
      "source": [
        "<a href=\"https://colab.research.google.com/github/Devraj02-sys/Dev/blob/main/KBC%20game.ipynb\" target=\"_parent\"><img src=\"https://colab.research.google.com/assets/colab-badge.svg\" alt=\"Open In Colab\"/></a>"
      ]
    },
    {
      "cell_type": "code",
      "source": [
        "import random\n",
        "\n",
        "class KBC:\n",
        "    def __init__(self):\n",
        "        self.price_money = {\n",
        "            1: 1000,\n",
        "            2: 2000,\n",
        "            3: 3000,\n",
        "            4: 5000,\n",
        "            5: 10000,\n",
        "            6: 20000,\n",
        "            # Add more price tiers as needed\n",
        "        }\n",
        "        self.current_level = 1\n",
        "\n",
        "    def questions(self, gk_questions):\n",
        "        #one by one iteration of question\n",
        "        random.shuffle(gk_questions)  # Shuffle questions for randomness\n",
        "        for item in gk_questions:\n",
        "            print(item[\"question\"])\n",
        "            for choice in item[\"choices\"]:\n",
        "                print(choice)\n",
        "\n",
        "            while True:\n",
        "                user_answer = input(\"Enter your answer (a, b, c, or d): \").lower()\n",
        "                if user_answer in ['a', 'b', 'c', 'd']:\n",
        "                    break\n",
        "                else:\n",
        "                    print(\"Invalid input. Please enter a, b, c, or d.\")\n",
        "\n",
        "            if user_answer == item[\"answer\"]:\n",
        "                print(\"Correct!\")\n",
        "                if self.current_level in self.price_money:\n",
        "                    print(\"You won:\", self.price_money[self.current_level])\n",
        "                self.current_level +=1\n",
        "            else:\n",
        "                print(\"Incorrect. The correct answer is\", item[\"answer\"])\n",
        "                print(\"Game Over!\")\n",
        "                break  # Exit the loop if the answer is wrong\n",
        "\n",
        "\n",
        "gk_questions = [\n",
        "    {\n",
        "        \"question\": \"What is the capital of India?\",\n",
        "        \"choices\": [\"a) Mumbai\", \"b) New Delhi\", \"c) Kolkata\", \"d) Chennai\"],\n",
        "        \"answer\": \"b\"\n",
        "    },\n",
        "    {\n",
        "        \"question\": \"How many colors are there in a rainbow?\",\n",
        "        \"choices\": [\"a) 5\", \"b) 6\", \"c) 7\", \"d) 8\"],\n",
        "        \"answer\": \"c\"\n",
        "    },\n",
        "    {\n",
        "        \"question\": \"Which planet is known as the Red Planet?\",\n",
        "        \"choices\": [\"a) Venus\", \"b) Mars\", \"c) Jupiter\", \"d) Saturn\"],\n",
        "        \"answer\": \"b\"\n",
        "    },\n",
        "    {\n",
        "        \"question\": \"Who is known as the Father of the Nation in India?\",\n",
        "        \"choices\": [\"a) Subhas Chandra Bose\", \"b) Jawaharlal Nehru\", \"c) Mahatma Gandhi\", \"d) Sardar Patel\"],\n",
        "        \"answer\": \"c\"\n",
        "    },\n",
        "    {\n",
        "        \"question\": \"Which is the largest animal in the world?\",\n",
        "        \"choices\": [\"a) Elephant\", \"b) Blue Whale\", \"c) Giraffe\", \"d) Crocodile\"],\n",
        "        \"answer\": \"b\"\n",
        "    },\n",
        "    {\n",
        "        \"question\": \"How many days are there in a leap year?\",\n",
        "        \"choices\": [\"a) 365\", \"b) 366\", \"c) 364\", \"d) 367\"],\n",
        "        \"answer\": \"b\"\n",
        "    }\n",
        "]\n",
        "\n",
        "game = KBC()\n",
        "game.questions(gk_questions)\n"
      ],
      "metadata": {
        "colab": {
          "base_uri": "https://localhost:8080/"
        },
        "id": "opVlSvuglFk-",
        "outputId": "e941dce7-0e51-4d56-eece-671d4e9669f4"
      },
      "execution_count": 49,
      "outputs": [
        {
          "output_type": "stream",
          "name": "stdout",
          "text": [
            "Which planet is known as the Red Planet?\n",
            "a) Venus\n",
            "b) Mars\n",
            "c) Jupiter\n",
            "d) Saturn\n",
            "Enter your answer (a, b, c, or d): b\n",
            "Correct!\n",
            "You won: 1000\n",
            "How many days are there in a leap year?\n",
            "a) 365\n",
            "b) 366\n",
            "c) 364\n",
            "d) 367\n",
            "Enter your answer (a, b, c, or d): b\n",
            "Correct!\n",
            "You won: 2000\n",
            "How many colors are there in a rainbow?\n",
            "a) 5\n",
            "b) 6\n",
            "c) 7\n",
            "d) 8\n",
            "Enter your answer (a, b, c, or d): c\n",
            "Correct!\n",
            "You won: 3000\n",
            "What is the capital of India?\n",
            "a) Mumbai\n",
            "b) New Delhi\n",
            "c) Kolkata\n",
            "d) Chennai\n",
            "Enter your answer (a, b, c, or d): b\n",
            "Correct!\n",
            "You won: 5000\n",
            "Who is known as the Father of the Nation in India?\n",
            "a) Subhas Chandra Bose\n",
            "b) Jawaharlal Nehru\n",
            "c) Mahatma Gandhi\n",
            "d) Sardar Patel\n",
            "Enter your answer (a, b, c, or d): c\n",
            "Correct!\n",
            "You won: 10000\n",
            "Which is the largest animal in the world?\n",
            "a) Elephant\n",
            "b) Blue Whale\n",
            "c) Giraffe\n",
            "d) Crocodile\n",
            "Enter your answer (a, b, c, or d): b\n",
            "Correct!\n",
            "You won: 20000\n"
          ]
        }
      ]
    },
    {
      "cell_type": "code",
      "source": [],
      "metadata": {
        "id": "DwnLnRmJl1YP"
      },
      "execution_count": null,
      "outputs": []
    }
  ]
}