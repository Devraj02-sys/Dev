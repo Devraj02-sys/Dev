{
  "nbformat": 4,
  "nbformat_minor": 0,
  "metadata": {
    "colab": {
      "provenance": [],
      "authorship_tag": "ABX9TyPWZVP68QiJyN6pkJoKf6tN",
      "include_colab_link": true
    },
    "kernelspec": {
      "name": "python3",
      "display_name": "Python 3"
    },
    "language_info": {
      "name": "python"
    }
  },
  "cells": [
    {
      "cell_type": "markdown",
      "metadata": {
        "id": "view-in-github",
        "colab_type": "text"
      },
      "source": [
        "<a href=\"https://colab.research.google.com/github/Devraj02-sys/Dev/blob/main/Hangman.ipynb\" target=\"_parent\"><img src=\"https://colab.research.google.com/assets/colab-badge.svg\" alt=\"Open In Colab\"/></a>"
      ]
    },
    {
      "cell_type": "code",
      "source": [
        "import random\n",
        "def select_word():\n",
        "    words = ['python', 'hangman', 'programming', 'developer', 'challenge']\n",
        "    return random.choice(words)\n",
        "\n",
        "def display_word(word, guessed_letters):\n",
        "    return ' '.join(letter if letter in guessed_letters else '_' for letter in word)\n",
        "def hangman():\n",
        "  word=select_word()\n",
        "  guessed_letters=set()\n",
        "  attempts=6\n",
        "  print(\"welcome to hangman\")\n",
        "  while attempts>0:\n",
        "    print(display_word(word,guessed_letters))\n",
        "    guess=input(\"Guess A Letter    \").lower()\n",
        "    if len(guess)!=1 or not guess.isalpha():\n",
        "      print(\"Invalid input. Please enter a single letter.\")\n",
        "      continue\n",
        "    if guess in guessed_letters:\n",
        "      print(\"You already guessed that letter.\")\n",
        "      continue\n",
        "    guessed_letters.add(guess)\n",
        "    if guess not in word:\n",
        "      attempts-=1\n",
        "      print(f\"Wrong guess ! Attempt left {attempts}\")\n",
        "    if set(word)<=guessed_letters:\n",
        "      print(\"Congratulation you Guess the right word  the word is \",word)\n",
        "      return\n",
        "    print(\"Game Over Thank you for playing!!!!\")\n",
        "\n",
        "if __name__==\"__main__\":\n",
        "  hangman()\n"
      ],
      "metadata": {
        "colab": {
          "base_uri": "https://localhost:8080/"
        },
        "id": "u8oxj2R25cUH",
        "outputId": "7531c804-29c7-4758-cb01-8dbc9311c260"
      },
      "execution_count": 5,
      "outputs": [
        {
          "output_type": "stream",
          "name": "stdout",
          "text": [
            "welcome to hangman\n",
            "_ _ _ _ _ _ _ _ _\n",
            "Guess A Letter    a\n",
            "Game Over Thank you for playing!!!!\n",
            "_ _ a _ _ _ _ _ _\n",
            "Guess A Letter    c\n",
            "Game Over Thank you for playing!!!!\n",
            "c _ a _ _ _ _ _ _\n",
            "Guess A Letter    h\n",
            "Game Over Thank you for playing!!!!\n",
            "c h a _ _ _ _ _ _\n",
            "Guess A Letter    a\n",
            "You already guessed that letter.\n",
            "c h a _ _ _ _ _ _\n",
            "Guess A Letter    l\n",
            "Game Over Thank you for playing!!!!\n",
            "c h a l l _ _ _ _\n",
            "Guess A Letter    l\n",
            "You already guessed that letter.\n",
            "c h a l l _ _ _ _\n",
            "Guess A Letter    e\n",
            "Game Over Thank you for playing!!!!\n",
            "c h a l l e _ _ e\n",
            "Guess A Letter    g\n",
            "Game Over Thank you for playing!!!!\n",
            "c h a l l e _ g e\n",
            "Guess A Letter    n\n",
            "Congratulation you Guess the right word  the word is  challenge\n"
          ]
        }
      ]
    }
  ]
}